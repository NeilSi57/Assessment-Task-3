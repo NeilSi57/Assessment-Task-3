{
 "cells": [
  {
   "attachments": {},
   "cell_type": "markdown",
   "metadata": {},
   "source": [
    "# PMI's"
   ]
  },
  {
   "attachments": {},
   "cell_type": "markdown",
   "metadata": {},
   "source": [
    "## Spiderman 2"
   ]
  },
  {
   "attachments": {},
   "cell_type": "markdown",
   "metadata": {},
   "source": [
    "## Positive "
   ]
  },
  {
   "attachments": {},
   "cell_type": "markdown",
   "metadata": {},
   "source": [
    "The idea of the game is very engaging it it involes a popular superhero in spiderman, and his villains which all appeal to kids between the age of 10 - 18. The idea of boss fights and exploring the city and new places give kids a bran new and engaging exprence\n",
    "\n",
    "The game can imporve hand eye coordination, motor skills  and quick thinking skills which are useful for younger kids. Which can be useful to them in the future as it helps with catching and throwing skills and the motor skills help overall physical development and balance, and quick thinkings skills can be useful in sports. This can all be proven as games constantly require you to look and screen so you need know where all the controls are. The motor skills can be proven as they require precise and smooth movement. Games help quick thinking skills as in boss fights you need to use your knowlegde in the game to quickly find ways to beat the \"boss\"\n",
    "\n",
    "Spiderman 2 can help your memory as you need to rember where things are located in different parts of th city, you also need to rember the different controls and combos to help win your fight. This can all prove the fact of how spiderman 2 can help your memory. "
   ]
  },
  {
   "attachments": {},
   "cell_type": "markdown",
   "metadata": {},
   "source": [
    "## Negative"
   ]
  },
  {
   "attachments": {},
   "cell_type": "markdown",
   "metadata": {},
   "source": [
    "Spiderman 2 is one of the most popular games because of how addicting it is. The game cause kids to spend lot's of time on their screens because of it's complex and intresting story and the large amounts of quest there are.\n",
    "\n",
    "Spiderman 2 is also two repitive with as most of the main villains follow th same pattern/idea and are all defeated to easily which also leads to the incredily short story which left many players unsstisfied. The game is also to similiar to spiderman 1 and other spiderman games making the game more repitive.\n",
    "\n",
    "The main plot wasn't as intresting as it was built up to be, as kraven's henchmen were to easy to defeat and the main fight againist venmom was a bit of a let down as spiderman was nerfed too hard."
   ]
  },
  {
   "attachments": {},
   "cell_type": "markdown",
   "metadata": {},
   "source": [
    "## Implementation"
   ]
  },
  {
   "attachments": {},
   "cell_type": "markdown",
   "metadata": {},
   "source": [
    "The idea of having and explorable map is very intresting and something i would like to add to my game. Adding a mapto my city will help make the game feel more fun and exciting and the game story line won't finish to quickly so players won't be let down after completing the game."
   ]
  },
  {
   "attachments": {},
   "cell_type": "markdown",
   "metadata": {},
   "source": [
    "## NBA 2K"
   ]
  },
  {
   "attachments": {},
   "cell_type": "markdown",
   "metadata": {},
   "source": [
    "## Positive"
   ]
  },
  {
   "attachments": {},
   "cell_type": "markdown",
   "metadata": {},
   "source": [
    "The game has multiple different modes, which help keep the game entertaining over long periods of time. Examples of this are the My Player mode where you can create your own NBA player and play games, the My GM mode where you can control your favourite teams and trade players and win championships. My Team in this mode youcan collect specail player cards and pu them in event as compete againist different players. All of theese different mode help keep the game new and fun to play. \n",
    "\n",
    "The game can help your memory. Your memory can be trained has you need to smoothly press different buttons to shoot, pass, set screens, run plays, block, steal, defend, sprint and more. Through the different controls and buttons you need remeber the different controls and this can help your short term and long term memory.\n",
    "\n",
    "The in game currency in NBA can be earned in other ways rather than buying it online with real money, you can earn this money by wining championships and playing games. This can help kids stop spending/wasting money on the game and rather use it on othering things."
   ]
  },
  {
   "attachments": {},
   "cell_type": "markdown",
   "metadata": {},
   "source": [
    "## Negative "
   ]
  },
  {
   "attachments": {},
   "cell_type": "markdown",
   "metadata": {},
   "source": [
    "The game gets replaced every year. Every year 2k release the nect version of NBA an shuts down the severs to an older version making it unplayable and not as good for a long term game. This will cause kids to spend money on the new verson\n",
    "\n",
    "When they release a new version the preoders normally coast aroun 120$ which os very expensive especailly for kids and the prive drops only when a new verison come out and by then it's only a matter of time before they sto releasing updates to game include the rosters, My team, My Career, each years drafts in My GM and only a matter of time untl they close the servers for that version of the game too.\n",
    "\n",
    "A lot of things in My Career cost money, these include the packs, cards and entering tournamnets. While it is possible to get VC (which is the in game currency) without playing some people might only be down 500VC and feel the need to buy more amounts and buy that, and they include better deals on their larger pack causing you to spend more money."
   ]
  },
  {
   "attachments": {},
   "cell_type": "markdown",
   "metadata": {},
   "source": [
    "## Implication"
   ]
  },
  {
   "attachments": {},
   "cell_type": "markdown",
   "metadata": {},
   "source": [
    "The idea to gain ingame currency without paying for it is good, this will help kids not spend more money on the game while it shoul be easier in my game rather than it NBA 2K"
   ]
  },
  {
   "attachments": {},
   "cell_type": "markdown",
   "metadata": {},
   "source": [
    "## Brawl stars"
   ]
  },
  {
   "attachments": {},
   "cell_type": "markdown",
   "metadata": {},
   "source": [
    "## Positive"
   ]
  },
  {
   "attachments": {},
   "cell_type": "markdown",
   "metadata": {},
   "source": [
    "The game gets constant updates making the game feel brand new and intresting. This can help bring more people to play the game and for alonger time and constantly stay intresting.\n",
    "\n",
    "The progression system is very easy to understand, you have get wins with brawlers and get more brawlers and gain more total trophies. This can amke the game very simple to understand and help people feel like they played enough and gain significant improvement.\n",
    "\n",
    "The developers give the brawl stars community lot's of event which can help people can a lot of free rewards and help people progress even easier and faster. Theese events also help people feel more engaged in playing their game more."
   ]
  },
  {
   "attachments": {},
   "cell_type": "markdown",
   "metadata": {},
   "source": [
    "## Negative"
   ]
  },
  {
   "attachments": {},
   "cell_type": "markdown",
   "metadata": {},
   "source": [
    "The game is very addicting, The game constanly makes updates and changes to make people play even more and make people feel left out if they don't participate in these games and events causing lot's of kids to constantly play this game.\n",
    "\n",
    "The game makes a brawl pass. By buying this players can get exclusive skins and titles which never come back, and a lot of free rewards to progress even faster. This casue to spend even more money on the game they are able to do this buy showing the rewards they miss out on without a brawl pass and if you feel like getting it thry try to convice to get the better version of it which give you even more money. This can cause kids to spend to much money on games.\n",
    "\n",
    "The game is very toxic. The developrs constanly release toxic and negative pins, which can leads to online bullying, trolling and harassment. This can lead to negativity in the game, They also make the amount of trophies lots in high games more than the amount gained which can cause kids to feel very sad after they ahve lost a lot of trophies and can negativily impact and lot of children wh play the game."
   ]
  },
  {
   "attachments": {},
   "cell_type": "markdown",
   "metadata": {},
   "source": [
    "## Implementation"
   ]
  },
  {
   "attachments": {},
   "cell_type": "markdown",
   "metadata": {},
   "source": [
    "Events. This is a fun way to cause the community to work togther and unloc fun rewards, this will also help people proggress in our game without spendimng moeny on the game."
   ]
  }
 ],
 "metadata": {
  "language_info": {
   "name": "python"
  },
  "orig_nbformat": 4
 },
 "nbformat": 4,
 "nbformat_minor": 2
}
