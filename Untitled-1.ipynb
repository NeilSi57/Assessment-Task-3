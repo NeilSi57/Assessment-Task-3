{
 "cells": [
  {
   "attachments": {},
   "cell_type": "markdown",
   "metadata": {},
   "source": [
    "# PMI's"
   ]
  },
  {
   "attachments": {},
   "cell_type": "markdown",
   "metadata": {},
   "source": [
    "## Spiderman 2"
   ]
  },
  {
   "attachments": {},
   "cell_type": "markdown",
   "metadata": {},
   "source": [
    "## Postive "
   ]
  },
  {
   "attachments": {},
   "cell_type": "markdown",
   "metadata": {},
   "source": [
    "The idea of the game is very engaging it it involes a popular superhero in spiderman, and his villains which all appeal to kids between the age of 10 - 18. The idea of boss fights and exploring the city and new places give kids a bran new and engaging exprence\n",
    "\n",
    "The game can imporve hand eye coordination, motor skills  and quick thinking skills which are useful for younger kids. Which can be useful to them in the future as it helps with catching and throwing skills and the motor skills help overall physical development and balance, and quick thinkings skills can be useful in sports. This can all be proven as games constantly require you to look and screen so you need know where all the controls are. The motor skills can be proven as they require precise and smooth movement. Games help quick thinking skills as in boss fights you need to use your knowlegde in the game to quickly find ways to beat the \"boss\"\n",
    "\n",
    "Spiderman 2 can help your memory as you need to rember where things are located in different parts of th city, you also need to rember the different controls and combos to help win your fight. This can all prove the fact of how spiderman 2 can help your memory. "
   ]
  },
  {
   "attachments": {},
   "cell_type": "markdown",
   "metadata": {},
   "source": [
    "## Negative"
   ]
  },
  {
   "attachments": {},
   "cell_type": "markdown",
   "metadata": {},
   "source": [
    "Spiderman 2 is one of the most popular games because of how addicting it is. The game cause kids to spend lot's of time on their screens because of it's complex and intresting story and the large amounts of quest there are.\n",
    "\n",
    "Spiderman 2 is also two repitive with as most of the main villains follow th same pattern/idea and are all defeated to easily which also leads to the incredily short story which left many players unsstisfied. The game is also to similiar to spiderman 1 and other spiderman games making the game more repitive.\n",
    "\n",
    "The main plot wasn't as intresting as it was built up to be, as kraven's henchmen were to easy to defeat and the main fight againist venmom was a bit of a let down as spiderman was nerfed too hard."
   ]
  },
  {
   "attachments": {},
   "cell_type": "markdown",
   "metadata": {},
   "source": []
  }
 ],
 "metadata": {
  "language_info": {
   "name": "python"
  },
  "orig_nbformat": 4
 },
 "nbformat": 4,
 "nbformat_minor": 2
}
