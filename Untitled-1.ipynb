{
 "cells": [
  {
   "attachments": {},
   "cell_type": "markdown",
   "metadata": {},
   "source": [
    "# PMI's"
   ]
  },
  {
   "attachments": {},
   "cell_type": "markdown",
   "metadata": {},
   "source": [
    "## Spiderman 2"
   ]
  },
  {
   "attachments": {},
   "cell_type": "markdown",
   "metadata": {},
   "source": [
    "## Positive "
   ]
  },
  {
   "attachments": {},
   "cell_type": "markdown",
   "metadata": {},
   "source": [
    "The idea of the game is very engaging it involves a popular superhero spiderman, and his villains which all appeal to kids between the ages of 10 - 18. The idea of boss fights and exploring the city and new places give kids a brand new and engaging exprence\n",
    "\n",
    "The game can improve hand-eye coordination, motor skills,  and quick thinking skills which are useful for younger kids. This can be useful to them in the future as it helps with catching and throwing skills and the motor skills help overall physical development and balance, and quick thinking skills can be useful in sports. This can all be proven as games constantly require you to look and screen so you need to know where all the controls are. The motor skills can be proven as they require precise and smooth movement. Games help quick thinking skills as in boss fights you need to use your knowledge in the game to quickly find ways to beat the \"boss\"\n",
    "\n",
    "Spiderman 2 can help your memory as you need to remember where things are located in different parts of the city, you also need to remember the different controls and combos to help win your fight. This can all prove the fact of how Spiderman 2 can help your memory. "
   ]
  },
  {
   "attachments": {},
   "cell_type": "markdown",
   "metadata": {},
   "source": [
    "## Negative"
   ]
  },
  {
   "attachments": {},
   "cell_type": "markdown",
   "metadata": {},
   "source": [
    "Spiderman 2 is one of the most popular games because of how addicting it is. The game causes kids to spend lots of time on their screens because of its complex and interesting story and the large amounts of quests there.\n",
    "\n",
    "Spiderman 2 is also two repetitive as most of the main villains follow the same pattern/idea and are all defeated too easily which also leads to the incredibly short story which leaves many players unsatisfied. The game is also similar to Spiderman 1 and other Spiderman games making the game more repetitive.\n",
    "\n",
    "The main plot wasn't as interesting as it was built up to be, as Kraven's henchmen were too easy to defeat and the main fight against Venmom was a bit of a letdown as Spiderman was nerfed too hard."
   ]
  },
  {
   "attachments": {},
   "cell_type": "markdown",
   "metadata": {},
   "source": [
    "## Implementation"
   ]
  },
  {
   "attachments": {},
   "cell_type": "markdown",
   "metadata": {},
   "source": [
    "The idea of having an explorable map is very interesting and something I would like to add to my game. Adding a map to my city will help make the game feel more fun and exciting and the game storyline won't finish too quickly so players won't be let down after completing the game."
   ]
  },
  {
   "attachments": {},
   "cell_type": "markdown",
   "metadata": {},
   "source": [
    "## NBA 2K"
   ]
  },
  {
   "attachments": {},
   "cell_type": "markdown",
   "metadata": {},
   "source": [
    "## Positive"
   ]
  },
  {
   "attachments": {},
   "cell_type": "markdown",
   "metadata": {},
   "source": [
    "The game has multiple different modes, which help keep the game entertaining over long periods of time. Examples of this are the My Player mode where you can create your own NBA player and play games, and the My GM mode where you can control your favorite teams and trade players and win championships. My Team in this mode you can collect special player cards and put them in the event to compete against different players. All of these different modes help keep the game new and fun to play. \n",
    "\n",
    "The game can help your memory. Your memory can be trained as you need to smoothly press different buttons to shoot, pass, set screens, run plays, block, steal, defend, sprint, and more. Through the different controls and buttons, you need to remember the different controls and this can help your short-term and long-term memory.\n",
    "\n",
    "The in-game currency in NBA can be earned in other ways rather than buying it online with real money, you can earn this money by winning championships and playing games. This can help kids stop spending/wasting money on the game and rather use it on othering things."
   ]
  },
  {
   "attachments": {},
   "cell_type": "markdown",
   "metadata": {},
   "source": [
    "## Negative "
   ]
  },
  {
   "attachments": {},
   "cell_type": "markdown",
   "metadata": {},
   "source": [
    "The game gets replaced every year. Every year 2k releases the next version of NBA and shuts down the severs to an older version making it unplayable and not as good for a long-term game. This will cause kids to spend money on the new verson\n",
    "\n",
    "When they release a new version the preorders normally coast around 120$ which is very expensive especailly for kids and the price drops only when a new version come out and by then it's only a matter of time before they start releasing updates to the game including the rosters, My team, My Career, each years drafts in My GM and only a matter of time until they close the servers for that version of the game too.\n",
    "\n",
    "A lot of things in My Career cost money, these include the packs, cards, and entering tournaments. While it is possible to get VC (which is the in-game currency) without playing some people might only be down 500VC and feel the need to buy more amounts and buy that, and they include better deals on their larger pack causing you to spend more money."
   ]
  },
  {
   "attachments": {},
   "cell_type": "markdown",
   "metadata": {},
   "source": [
    "## Implication"
   ]
  },
  {
   "attachments": {},
   "cell_type": "markdown",
   "metadata": {},
   "source": [
    "The idea to gain in-game currency without paying for it is good, this will help kids not spend more money on the game while it should be easier in my game rather than it NBA 2K"
   ]
  },
  {
   "attachments": {},
   "cell_type": "markdown",
   "metadata": {},
   "source": [
    "## Brawl stars"
   ]
  },
  {
   "attachments": {},
   "cell_type": "markdown",
   "metadata": {},
   "source": [
    "## Positive"
   ]
  },
  {
   "attachments": {},
   "cell_type": "markdown",
   "metadata": {},
   "source": [
    "The game gets constant updates making the game feel brand new and interesting. This can help bring more people to play the game and for a longer time and constantly stay intresting.\n",
    "\n",
    "The progression system is very easy to understand, you have to get wins with brawlers and get more brawlers and gain more total trophies. This can make the game very simple to understand and help people feel like they played enough and gain significant improvement.\n",
    "\n",
    "The developers give the Brawl Stars community lots of events which can help people get a lot of free rewards and help people progress even easier and faster. These events also help people feel more engaged in playing their game more."
   ]
  },
  {
   "attachments": {},
   "cell_type": "markdown",
   "metadata": {},
   "source": [
    "## Negative"
   ]
  },
  {
   "attachments": {},
   "cell_type": "markdown",
   "metadata": {},
   "source": [
    "The game is very addicting, The game constantly makes updates and changes to make people play even more and make people feel left out if they don't participate in these games and events causing lots of kids to constantly play this game.\n",
    "\n",
    "The game makes a brawl pass. By buying this players can get exclusive skins and titles which never come back, and a lot of free rewards to progress even faster. This cause to spend even more money on the game they are able to do this by showing the rewards they miss out on without a brawl pass and if you feel like getting it they try to convince you to get the better version of it which gives you even more money. This can cause kids to spend too much money on games.\n",
    "\n",
    "The game is very toxic. The developers constantly release toxic and negative pins, which can lead to online bullying, trolling, and harassment. This can lead to negativity in the game, They also make the number of trophies lots in high games more than the amount gained which can cause kids to feel very sad after they have lost a lot of trophies and can negatively impact a lot of children who play the game."
   ]
  },
  {
   "attachments": {},
   "cell_type": "markdown",
   "metadata": {},
   "source": [
    "## Implementation"
   ]
  },
  {
   "attachments": {},
   "cell_type": "markdown",
   "metadata": {},
   "source": [
    "Events. This is a fun way to cause the community to work together and unlock fun rewards, this will also help people progress in our game without spending money on the game."
   ]
  }
 ],
 "metadata": {
  "language_info": {
   "name": "python"
  },
  "orig_nbformat": 4
 },
 "nbformat": 4,
 "nbformat_minor": 2
}
